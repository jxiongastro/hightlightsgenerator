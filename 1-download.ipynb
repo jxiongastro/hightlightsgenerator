{
 "cells": [
  {
   "cell_type": "code",
   "execution_count": 2,
   "metadata": {},
   "outputs": [],
   "source": [
    "import youtube_dl\n",
    "\n",
    "def download_video(video_id):\n",
    "    url = 'https://www.youtube.com/watch?v=' + video_id\n",
    "    ydl_opts = { 'outtmpl': str(video_id) + '.mp4' }\n",
    "    with youtube_dl.YoutubeDL(ydl_opts) as ydl:\n",
    "        print(url)\n",
    "        ydl.download([url])"
   ]
  },
  {
   "cell_type": "code",
   "execution_count": 3,
   "metadata": {},
   "outputs": [
    {
     "name": "stdout",
     "output_type": "stream",
     "text": [
      "https://www.youtube.com/watch?v=atq6xYKXqg8\n",
      "[youtube] atq6xYKXqg8: Downloading webpage\n",
      "[youtube] atq6xYKXqg8: Downloading video info webpage\n",
      "[youtube] atq6xYKXqg8: Downloading js player vflbOM9Vw\n",
      "[youtube] atq6xYKXqg8: Downloading MPD manifest\n",
      "[youtube] atq6xYKXqg8: Downloading MPD manifest\n",
      "[download] Destination: atq6xYKXqg8.mp4\n",
      "[download] 100% of 1.22GiB in 03:5042MiB/s ETA 00:008\n"
     ]
    }
   ],
   "source": [
    "download_video('atq6xYKXqg8')"
   ]
  },
  {
   "cell_type": "code",
   "execution_count": null,
   "metadata": {},
   "outputs": [],
   "source": []
  }
 ],
 "metadata": {
  "kernelspec": {
   "display_name": "Python 3",
   "language": "python",
   "name": "python3"
  },
  "language_info": {
   "codemirror_mode": {
    "name": "ipython",
    "version": 3
   },
   "file_extension": ".py",
   "mimetype": "text/x-python",
   "name": "python",
   "nbconvert_exporter": "python",
   "pygments_lexer": "ipython3",
   "version": "3.6.5"
  }
 },
 "nbformat": 4,
 "nbformat_minor": 2
}
