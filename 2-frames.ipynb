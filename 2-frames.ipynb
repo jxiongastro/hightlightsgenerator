{
 "cells": [
  {
   "cell_type": "code",
   "execution_count": 1,
   "metadata": {},
   "outputs": [],
   "source": [
    "import cv2\n",
    "from tqdm import tqdm\n",
    "import matplotlib.pyplot as plt"
   ]
  },
  {
   "cell_type": "code",
   "execution_count": 2,
   "metadata": {},
   "outputs": [],
   "source": [
    "video = cv2.VideoCapture('atq6xYKXqg8.mp4')\n",
    "fps = int(video.get(cv2.CAP_PROP_FPS))\n",
    "n_frames = int(video.get(cv2.CAP_PROP_FRAME_COUNT))"
   ]
  },
  {
   "cell_type": "code",
   "execution_count": null,
   "metadata": {},
   "outputs": [
    {
     "name": "stderr",
     "output_type": "stream",
     "text": [
      " 90%|█████████ | 105478/117062 [06:23<00:42, 275.31it/s]"
     ]
    }
   ],
   "source": [
    "success, image = video.read()\n",
    "count = 0\n",
    "per_n_seconds = 1\n",
    "for _ in tqdm(range(int(n_frames))):\n",
    "    if (count % (fps * per_n_seconds)) == 0:\n",
    "        image = cv2.resize(image, (0,0), fx=0.25, fy=0.25) \n",
    "        cv2.imwrite('frames/' + '%s.jpg' % str(int(count)).zfill(6), image)\n",
    "    success, image = video.read()\n",
    "    count += 1\n",
    "    if not success:\n",
    "        break"
   ]
  },
  {
   "cell_type": "code",
   "execution_count": null,
   "metadata": {},
   "outputs": [],
   "source": []
  }
 ],
 "metadata": {
  "kernelspec": {
   "display_name": "Python 3",
   "language": "python",
   "name": "python3"
  },
  "language_info": {
   "codemirror_mode": {
    "name": "ipython",
    "version": 3
   },
   "file_extension": ".py",
   "mimetype": "text/x-python",
   "name": "python",
   "nbconvert_exporter": "python",
   "pygments_lexer": "ipython3",
   "version": "3.6.5"
  }
 },
 "nbformat": 4,
 "nbformat_minor": 2
}
